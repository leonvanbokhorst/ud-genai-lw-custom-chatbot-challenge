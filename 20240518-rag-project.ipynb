{
 "cells": [
  {
   "cell_type": "markdown",
   "id": "124e5672",
   "metadata": {},
   "source": [
    "# Custom Chatbot Project"
   ]
  },
  {
   "cell_type": "markdown",
   "id": "2a4a94b3",
   "metadata": {},
   "source": [
    "### Dataset Choice Explanation\n",
    "\n",
    "For this project, I have chosen the \"Hoofdlijnenakkoord 2024-2028\" document, which outlines the coalition agreement between the PVV, VVD, NSC, and BBB political parties in the Netherlands. This document was selected because it provides comprehensive information on policy decisions and political directions that are highly relevant and impactful to the Dutch population.\n",
    "\n",
    "Since the document is very recent, it contains information that is not available in the current OpenAI GPT models, which were trained before this document was released. This dataset contains structured, textual information divided into main points and sections, making it ideal for augmenting prompts for a custom chatbot designed to answer queries about Dutch political agreements and policies. This domain-specific knowledge ensures that the chatbot can provide accurate and up-to-date responses.\n",
    "\n",
    "As an experiment, I used Google Translate to translate the document sections into English. I'm curious if this translation makes the content even more accessible to my English-speaking friends and students in Eindhoven. I hope to facilitate better understanding and discussions about Dutch political developments to all beautiful people who live here, no matter where they come from."
   ]
  },
  {
   "cell_type": "code",
   "execution_count": 1,
   "id": "f269ed63",
   "metadata": {},
   "outputs": [
    {
     "name": "stdout",
     "output_type": "stream",
     "text": [
      "Note: you may need to restart the kernel to use updated packages.\n"
     ]
    }
   ],
   "source": [
    "%pip install -q pandas pdfplumber openai transformers matplotlib numpy seaborn sentence_transformers"
   ]
  },
  {
   "cell_type": "code",
   "execution_count": 2,
   "id": "582f0656",
   "metadata": {},
   "outputs": [],
   "source": [
    "import os\n",
    "from openai import OpenAI\n",
    "\n",
    "# Set the OpenAI API key if not already set in the environment variable\n",
    "if not os.environ.get('OPENAI_API_KEY'):\n",
    "\tprint('Please set the OPENAI_API_KEY environment variable')\n",
    "\tos.environ['OPENAI_API_KEY'] = 'Ya Key Here'\n",
    "\n",
    "# Initialize the OpenAI API client\n",
    "client = OpenAI()"
   ]
  },
  {
   "cell_type": "markdown",
   "id": "a63d4c5f",
   "metadata": {},
   "source": [
    "## Data Wrangling"
   ]
  },
  {
   "cell_type": "markdown",
   "id": "cbbf010c",
   "metadata": {},
   "source": [
    "### Semantic Chunking\n",
    "The document is dense with exact details. As an experiment, I performed semantic chunking on the data using SentenceTransformer to split the document into sentences. Cosine similarity is then used to group similar sentences together. These are stored in a dataframe and saved as a CSV file for further processing."
   ]
  },
  {
   "cell_type": "code",
   "execution_count": 3,
   "id": "d654d093",
   "metadata": {},
   "outputs": [
    {
     "name": "stderr",
     "output_type": "stream",
     "text": [
      "/Users/leonvanbokhorst/repos/genai/.venv/lib/python3.12/site-packages/tqdm/auto.py:21: TqdmWarning: IProgress not found. Please update jupyter and ipywidgets. See https://ipywidgets.readthedocs.io/en/stable/user_install.html\n",
      "  from .autonotebook import tqdm as notebook_tqdm\n"
     ]
    },
    {
     "name": "stdout",
     "output_type": "stream",
     "text": [
      "Semantic chunks loaded from data/semantic_chunks.csv\n"
     ]
    },
    {
     "data": {
      "text/html": [
       "<div>\n",
       "<style scoped>\n",
       "    .dataframe tbody tr th:only-of-type {\n",
       "        vertical-align: middle;\n",
       "    }\n",
       "\n",
       "    .dataframe tbody tr th {\n",
       "        vertical-align: top;\n",
       "    }\n",
       "\n",
       "    .dataframe thead th {\n",
       "        text-align: right;\n",
       "    }\n",
       "</style>\n",
       "<table border=\"1\" class=\"dataframe\">\n",
       "  <thead>\n",
       "    <tr style=\"text-align: right;\">\n",
       "      <th></th>\n",
       "      <th>text</th>\n",
       "    </tr>\n",
       "  </thead>\n",
       "  <tbody>\n",
       "    <tr>\n",
       "      <th>count</th>\n",
       "      <td>345</td>\n",
       "    </tr>\n",
       "    <tr>\n",
       "      <th>unique</th>\n",
       "      <td>345</td>\n",
       "    </tr>\n",
       "    <tr>\n",
       "      <th>top</th>\n",
       "      <td>Subscribe to DeepL Pro to translate larger doc...</td>\n",
       "    </tr>\n",
       "    <tr>\n",
       "      <th>freq</th>\n",
       "      <td>1</td>\n",
       "    </tr>\n",
       "  </tbody>\n",
       "</table>\n",
       "</div>"
      ],
      "text/plain": [
       "                                                     text\n",
       "count                                                 345\n",
       "unique                                                345\n",
       "top     Subscribe to DeepL Pro to translate larger doc...\n",
       "freq                                                    1"
      ]
     },
     "execution_count": 3,
     "metadata": {},
     "output_type": "execute_result"
    }
   ],
   "source": [
    "from sentence_transformers import SentenceTransformer, util\n",
    "import torch\n",
    "import pandas as pd\n",
    "import re\n",
    "import pdfplumber\n",
    "\n",
    "# no warnings about the model being loaded from cache\n",
    "import warnings\n",
    "warnings.filterwarnings(\"ignore\", category=Warning)\n",
    "\n",
    "# Path to the PDF file and CSV file\n",
    "pdf_path = 'data/20240515+Hoofdlijnenakkoord+PVV+VVD+NSC+BBB.pdf'\n",
    "csv_path = 'data/semantic_chunks.csv'\n",
    "\n",
    "# Initialize the multilingual sentence transformer model\n",
    "model = SentenceTransformer('paraphrase-multilingual-MiniLM-L12-v2', device='cuda' if torch.cuda.is_available() else 'cpu') \n",
    "\n",
    "# Function to extract text from PDF using pdfplumber\n",
    "def extract_text(pdf_path):\n",
    "\twith pdfplumber.open(pdf_path) as pdf:\n",
    "\t\ttext = \" \".join(page.extract_text() for page in pdf.pages if page.extract_text())\n",
    "\treturn text\n",
    "\n",
    "# Remove page number pattern and all newlines\n",
    "def preprocess_text(text):\n",
    "\ttext = re.sub(r'\\n', ' ', text)  # Remove newlines  \n",
    "\ttext = re.sub(r'\\s+', ' ', text)  # Remove extra whitespaces    \n",
    "\treturn text\n",
    "\n",
    "def split_sentences(text):\n",
    "\t# Split text into sentences\n",
    "\tsentences = re.split(r'(?<!\\d)(?<!\\d\\.\\d)\\.\\s|(?<=\\?)\\s|(?<=!)\\s', text)\n",
    "\treturn sentences\n",
    "\n",
    "# Function to split text into semantically meaningful chunks\n",
    "def semantic_chunking(sentences, max_chunk_size=700, cos_sim_threshold=0.4):\n",
    "\n",
    "\t# Encode sentences\n",
    "\tsentence_embeddings = model.encode(sentences)\n",
    "\t\n",
    "\t# Cluster sentences into chunks based on cosine similarity\n",
    "\tclusters = []\n",
    "\t\n",
    "\tcurrent_cluster = []\n",
    "\tcurrent_length = 0\n",
    "\t\n",
    "\tfor i, sentence in enumerate(sentences):\n",
    "\t\tsentence = sentence.strip() + '.' if sentence[-1] != '.' else sentence.strip()\n",
    "\t\tcurrent_cluster.append(sentence)\n",
    "\t\tcurrent_length += len(sentence)\n",
    "\t\t\n",
    "\t\tif current_length >= max_chunk_size or (i < len(sentences) - 1 and util.pytorch_cos_sim(sentence_embeddings[i], sentence_embeddings[i + 1]) < cos_sim_threshold):\n",
    "\t\t\tclusters.append(' '.join(current_cluster))\n",
    "\t\t\tcurrent_cluster = []\n",
    "\t\t\tcurrent_length = 0\n",
    "\t\n",
    "\treturn clusters\n",
    "\n",
    "# only run the code below if the csv file does not exist\n",
    "try:\n",
    "\tdf = pd.read_csv(csv_path)\n",
    "\tprint(f'Semantic chunks loaded from {csv_path}')\n",
    "except FileNotFoundError:\n",
    "\t# Extract and preprocess the text\n",
    "\tpdf_text = extract_text(pdf_path)\n",
    "\tcleaned_text = preprocess_text(pdf_text)\n",
    "\n",
    "\t# Chunk the text semantically\n",
    "\tchunks = semantic_chunking(split_sentences(cleaned_text))\n",
    "\n",
    "\t# Create a DataFrame\n",
    "\tdf = pd.DataFrame({'text': chunks})\n",
    "\n",
    "\t# Save to CSV\n",
    "\tdf.to_csv(csv_path, index=False)\n",
    "\tprint(f'Semantic chunks saved to {csv_path}')\n",
    "\t\n",
    "df.describe()"
   ]
  },
  {
   "cell_type": "code",
   "execution_count": 4,
   "id": "82803da2",
   "metadata": {},
   "outputs": [
    {
     "data": {
      "image/png": "[encoded data removed]",
      "text/plain": [
       "<Figure size 640x480 with 1 Axes>"
      ]
     },
     "metadata": {},
     "output_type": "display_data"
    }
   ],
   "source": [
    "# visualize the length distributions of the sections\n",
    "import matplotlib.pyplot as plt\n",
    "import seaborn as sns\n",
    "\n",
    "df['length'] = df['text'].apply(len)\n",
    "# calculate the best number of bins for the histogram using the Freedman-Diaconis rule (https://en.wikipedia.org/wiki/Freedman%E2%80%93Diaconis_rule)\n",
    "n_bins = int((df['length'].max() - df['length'].min()) / (2 * df['length'].std() * len(df['length']) ** (-1/3)))\n",
    "sns.histplot(df['length'], kde=True, bins=n_bins)\n",
    "\n",
    "# print maximum, minimum, and rounded mean and other useful statistic values in plot in a box on the plot\n",
    "plt.text(0.85, 0.95, f\"Max: {df['length'].max()}\\nMin: {df['length'].min()}\\nMean: {df['length'].mean():.0f}\\nStd: {df['length'].std():.0f}\", \n",
    "\tverticalalignment='top', horizontalalignment='right',\n",
    "\ttransform=plt.gca().transAxes,\n",
    "\tbbox=dict(facecolor='silver', alpha=0.2), fontsize=8, ha='left')   \n",
    "\n",
    "plt.xlabel('Section length')\n",
    "plt.ylabel('Number of sections')\n",
    "plt.title('Section length distribution')\n",
    "plt.show()\n"
   ]
  },
  {
   "cell_type": "markdown",
   "id": "ae769871",
   "metadata": {},
   "source": [
    "## Custom Query Completion"
   ]
  },
  {
   "cell_type": "code",
   "execution_count": 5,
   "id": "8b6e1f75",
   "metadata": {},
   "outputs": [],
   "source": [
    "# Define the questions\n",
    "questions = [\n",
    "\t\"How many housing units per year need to be build by the government in the Netherlands?\",\n",
    "\t\"How much can the annual social rental development grow?\",\n",
    "\t\"What is the title of the Main Line Agreement?\"\n",
    "]\n",
    "\n",
    "# Define the prompt template for the questions without context\n",
    "prompts_template = \"\"\"\n",
    "Question: {question}\n",
    "Answer: \"\"\"\n",
    "\n",
    "# Construct prompts with the questions and the template\n",
    "prompts_no_rag = [prompts_template.format(question=question) for question in questions]\n",
    "\t"
   ]
  },
  {
   "cell_type": "code",
   "execution_count": 6,
   "id": "e4aac711",
   "metadata": {},
   "outputs": [],
   "source": [
    "# Function to generate answers using the OpenAI API\n",
    "def generate_answer(prompt):\n",
    "\tcompletion = client.chat.completions.create(\n",
    "\t\tmodel=\"gpt-3.5-turbo\",\n",
    "\t\tmessages=[{\"role\": \"user\", \"content\": prompt}],\n",
    "\t\tstream=False,\n",
    "\t\tmax_tokens=500,\n",
    "\t\ttemperature=0.0,\n",
    "\t)\n",
    "\n",
    "\treturn completion.choices[0].message.content"
   ]
  },
  {
   "cell_type": "code",
   "execution_count": 7,
   "id": "670005c9",
   "metadata": {},
   "outputs": [
    {
     "name": "stdout",
     "output_type": "stream",
     "text": [
      "The Dutch government aims to build around 75,000 new housing units per year to address the housing shortage in the country.\n",
      "The annual social rental development can grow by a certain percentage each year, depending on factors such as demand, funding availability, and government policies. There is no specific limit to how much it can grow annually, as it can vary based on these factors.\n",
      "The title of the Main Line Agreement is \"Agreement on the Establishment of the Main Line of the East African Railways.\"\n"
     ]
    }
   ],
   "source": [
    "# Generate answers for the questions without context\n",
    "answers_no_rag = []\n",
    "\n",
    "for prompt in prompts_no_rag:\n",
    "\tanswer = generate_answer(prompt)\n",
    "\tanswers_no_rag.append(answer)\n",
    "\tprint(answer)"
   ]
  },
  {
   "cell_type": "markdown",
   "id": "6935bdf2",
   "metadata": {},
   "source": [
    "### Retrieve OpenAI embeddings each chunk in the dataset\n"
   ]
  },
  {
   "cell_type": "code",
   "execution_count": 8,
   "id": "1c90be24",
   "metadata": {},
   "outputs": [],
   "source": [
    "import numpy as np\n",
    "\n",
    "# Get embeddings from the openai api for each chunk in the dataset\n",
    "def get_embedding(text:str, model=\"text-embedding-3-small\"):\n",
    "\ttext = text.replace('\\n', ' ')\n",
    "\tembedding = client.embeddings.create(input = [text], model=model).data[0].embedding\n",
    "\treturn np.array(embedding)"
   ]
  },
  {
   "cell_type": "code",
   "execution_count": 9,
   "id": "78ddab22",
   "metadata": {},
   "outputs": [
    {
     "data": {
      "text/html": [
       "<div>\n",
       "<style scoped>\n",
       "    .dataframe tbody tr th:only-of-type {\n",
       "        vertical-align: middle;\n",
       "    }\n",
       "\n",
       "    .dataframe tbody tr th {\n",
       "        vertical-align: top;\n",
       "    }\n",
       "\n",
       "    .dataframe thead th {\n",
       "        text-align: right;\n",
       "    }\n",
       "</style>\n",
       "<table border=\"1\" class=\"dataframe\">\n",
       "  <thead>\n",
       "    <tr style=\"text-align: right;\">\n",
       "      <th></th>\n",
       "      <th>text</th>\n",
       "      <th>length</th>\n",
       "      <th>embedding</th>\n",
       "    </tr>\n",
       "  </thead>\n",
       "  <tbody>\n",
       "    <tr>\n",
       "      <th>0</th>\n",
       "      <td>Subscribe to DeepL Pro to translate larger doc...</td>\n",
       "      <td>99</td>\n",
       "      <td>[-0.0267571322619915, -0.037428129464387894, 0...</td>\n",
       "    </tr>\n",
       "    <tr>\n",
       "      <th>1</th>\n",
       "      <td>HOPE, LEF AND PRIDE - Main Line Agreement 2024...</td>\n",
       "      <td>144</td>\n",
       "      <td>[-0.04082273319363594, -0.013431457802653313, ...</td>\n",
       "    </tr>\n",
       "    <tr>\n",
       "      <th>2</th>\n",
       "      <td>We have to work hard to earn the trust of the ...</td>\n",
       "      <td>52</td>\n",
       "      <td>[0.010904844850301743, 0.035049859434366226, 0...</td>\n",
       "    </tr>\n",
       "    <tr>\n",
       "      <th>3</th>\n",
       "      <td>Every day.</td>\n",
       "      <td>10</td>\n",
       "      <td>[-0.01848646067082882, 0.014253794215619564, 0...</td>\n",
       "    </tr>\n",
       "    <tr>\n",
       "      <th>4</th>\n",
       "      <td>Because trust cannot be taken for granted.</td>\n",
       "      <td>42</td>\n",
       "      <td>[0.05153677240014076, 0.04500586539506912, -0....</td>\n",
       "    </tr>\n",
       "  </tbody>\n",
       "</table>\n",
       "</div>"
      ],
      "text/plain": [
       "                                                text  length  \\\n",
       "0  Subscribe to DeepL Pro to translate larger doc...      99   \n",
       "1  HOPE, LEF AND PRIDE - Main Line Agreement 2024...     144   \n",
       "2  We have to work hard to earn the trust of the ...      52   \n",
       "3                                         Every day.      10   \n",
       "4         Because trust cannot be taken for granted.      42   \n",
       "\n",
       "                                           embedding  \n",
       "0  [-0.0267571322619915, -0.037428129464387894, 0...  \n",
       "1  [-0.04082273319363594, -0.013431457802653313, ...  \n",
       "2  [0.010904844850301743, 0.035049859434366226, 0...  \n",
       "3  [-0.01848646067082882, 0.014253794215619564, 0...  \n",
       "4  [0.05153677240014076, 0.04500586539506912, -0....  "
      ]
     },
     "execution_count": 9,
     "metadata": {},
     "output_type": "execute_result"
    }
   ],
   "source": [
    "import ast\n",
    "\n",
    "# Path to save the embeddings\n",
    "path_embeddings_csv = 'data/semantic_chunks_embeddings.csv'\n",
    "\t\n",
    "# Get embeddings only if the embeddings csv is not already saved\n",
    "if not os.path.exists(path_embeddings_csv):\n",
    "    embeddings = [get_embedding(text) for text in df['text']]\n",
    "    \n",
    "    df_embeddings = df.copy()\n",
    "    df_embeddings['embedding'] = embeddings\n",
    "    df_embeddings['embedding'] = df_embeddings['embedding'].apply(lambda x: ','.join(map(str, x)))  # Flatten the array\n",
    "    df_embeddings.to_csv(path_embeddings_csv, index=False)\n",
    "\n",
    "# Function to convert the flattened string back to an array\n",
    "def str_to_array(x):\n",
    "    return np.array(list(map(float, x.split(','))))\n",
    "\n",
    "# Reload the embeddings from the csv file\n",
    "df_embeddings = pd.read_csv(path_embeddings_csv)\n",
    "df_embeddings['embedding'] = df_embeddings['embedding'].apply(str_to_array)\n",
    "\n",
    "df_embeddings.head()"
   ]
  },
  {
   "cell_type": "code",
   "execution_count": 10,
   "id": "eec7032c",
   "metadata": {},
   "outputs": [],
   "source": [
    "# Template for prompts with context\n",
    "prompts_rag_template = \"\"\"Please take the following important context into account when you answer the users question to the best of your ability. If the question CAN'T be answered based on the context, reply with \"I don't know\".\n",
    "\n",
    "Context:\n",
    "\n",
    "{context}\n",
    "\n",
    "---\n",
    "Question: {question}\n",
    "Answer: \"\"\"\n"
   ]
  },
  {
   "cell_type": "code",
   "execution_count": 11,
   "id": "0fc46053",
   "metadata": {},
   "outputs": [],
   "source": [
    "import numpy as np\n",
    "import ast\n",
    "\n",
    "# Get the embedding of the question\n",
    "def get_most_similar_chunks(question:str, n=3):\n",
    "\tquestion_embedding = get_embedding(question)\n",
    "\tdf_similar_chunks = df_embeddings.copy()\n",
    "\t\n",
    "\t# calculate cosine similarities with pytorch between the question and each chunk\n",
    "\tdf_similar_chunks['similarity'] = df_similar_chunks['embedding'].apply(lambda x: util.pytorch_cos_sim(question_embedding, x).item())\n",
    "\n",
    "\t\n",
    "\t# sort the chunks by similarity\n",
    "\tretval = df_similar_chunks.nlargest(n, 'similarity')\n",
    "\treturn retval\n"
   ]
  },
  {
   "cell_type": "markdown",
   "id": "1783f146",
   "metadata": {},
   "source": [
    "## Custom Performance Demonstration"
   ]
  },
  {
   "cell_type": "code",
   "execution_count": 12,
   "id": "8ee1a85a",
   "metadata": {},
   "outputs": [],
   "source": [
    "# For each question, generate the prompt and get the answer\n",
    "def generate_answers(questions):\n",
    "\tanswers_rag = []\n",
    "\t\n",
    "\tfor question in questions:\n",
    "\t\tmost_similar_chunks = get_most_similar_chunks(question, n=10)\n",
    "\t\t\n",
    "\t\tcontext = ''\n",
    "\t\tfor i, row in most_similar_chunks.iterrows():\n",
    "\t\t\tcontext += row['text'] + '\\n\\n'\n",
    "\t\t\n",
    "\t\tprompt = prompts_rag_template.format(context=context, question=question)\n",
    "    \n",
    "\t\tanswer = generate_answer(prompt)\n",
    "\t\tanswers_rag.append(answer)\n",
    "\n",
    "\treturn answers_rag"
   ]
  },
  {
   "cell_type": "code",
   "execution_count": 13,
   "id": "dce0f55b",
   "metadata": {},
   "outputs": [],
   "source": [
    "# print the answers for the first question rag and no_rag\n",
    "def print_answers(question, answers_rag, answers_no_rag, index=0):\n",
    "\tprint(f'Question: {question}')\n",
    "\tprint('---')\n",
    "\tprint('Answer:')\n",
    "\tprint(answers_no_rag[index])\n",
    "\tprint('---')\n",
    "\tprint('Answer custom query with context:')\n",
    "\tprint(answers_rag[index])\n",
    "\tprint('---')"
   ]
  },
  {
   "cell_type": "code",
   "execution_count": 14,
   "id": "c45fba54",
   "metadata": {},
   "outputs": [],
   "source": [
    "# generate answers for the questions with context\n",
    "answers_rag = generate_answers(questions)"
   ]
  },
  {
   "cell_type": "markdown",
   "id": "4f11fdc0",
   "metadata": {},
   "source": [
    "### Question 1"
   ]
  },
  {
   "cell_type": "code",
   "execution_count": 15,
   "id": "4901c850",
   "metadata": {},
   "outputs": [
    {
     "name": "stdout",
     "output_type": "stream",
     "text": [
      "Question: How many housing units per year need to be build by the government in the Netherlands?\n",
      "---\n",
      "Answer:\n",
      "The Dutch government aims to build around 75,000 new housing units per year to address the housing shortage in the country.\n",
      "---\n",
      "Answer custom query with context:\n",
      "The political goal is to structurally build an additional 100,000 housing units per year in the Netherlands.\n",
      "---\n"
     ]
    }
   ],
   "source": [
    "print_answers(questions[0], answers_rag, answers_no_rag, 0)"
   ]
  },
  {
   "cell_type": "markdown",
   "id": "6e86e37c",
   "metadata": {},
   "source": [
    "### Question 2"
   ]
  },
  {
   "cell_type": "code",
   "execution_count": 17,
   "id": "6f646989",
   "metadata": {},
   "outputs": [
    {
     "name": "stdout",
     "output_type": "stream",
     "text": [
      "Question: How much can the annual social rental development grow?\n",
      "---\n",
      "Answer:\n",
      "The annual social rental development can grow by a certain percentage each year, depending on factors such as demand, funding availability, and government policies. There is no specific limit to how much it can grow annually, as it can vary based on these factors.\n",
      "---\n",
      "Answer custom query with context:\n",
      "The annual social rent development follows the existing agreement with the housing corporations until 2026, namely the CLA development -0.5%.\n",
      "---\n"
     ]
    }
   ],
   "source": [
    "print_answers(questions[1], answers_rag, answers_no_rag, 1)"
   ]
  },
  {
   "cell_type": "markdown",
   "id": "b025c2be",
   "metadata": {},
   "source": [
    "### Question 3"
   ]
  },
  {
   "cell_type": "code",
   "execution_count": 18,
   "id": "11c07a54",
   "metadata": {},
   "outputs": [
    {
     "name": "stdout",
     "output_type": "stream",
     "text": [
      "Question: What is the title of the Main Line Agreement?\n",
      "---\n",
      "Answer:\n",
      "The title of the Main Line Agreement is \"Agreement on the Establishment of the Main Line of the East African Railways.\"\n",
      "---\n",
      "Answer custom query with context:\n",
      "The title of the Main Line Agreement is \"HOPE, LEF AND PRIDE - Main Line Agreement 2024 - 2028\"\n",
      "---\n"
     ]
    }
   ],
   "source": [
    "print_answers(questions[2], answers_rag, answers_no_rag, 2)"
   ]
  },
  {
   "cell_type": "code",
   "execution_count": 19,
   "id": "cb4224df",
   "metadata": {},
   "outputs": [
    {
     "name": "stdout",
     "output_type": "stream",
     "text": [
      "Question: What does BBB stand for?\n",
      "---\n",
      "Answer:\n",
      "BBB stands for Better Business Bureau.\n",
      "---\n",
      "Answer custom query with context:\n",
      "BoerBurgerBeweging\n",
      "---\n",
      "Question: Who is WIlders?\n",
      "---\n",
      "Answer:\n",
      "Geert Wilders is a Dutch politician who is the leader of the Party for Freedom (Partij voor de Vrijheid, PVV), a right-wing populist and nationalist political party in the Netherlands. He is known for his controversial views on Islam, immigration, and multiculturalism. Wilders has been a prominent figure in Dutch politics for many years and has been the subject of much debate and criticism both in the Netherlands and internationally.\n",
      "---\n",
      "Answer custom query with context:\n",
      "I don't know.\n",
      "---\n",
      "Question: What does NSC stand for?\n",
      "---\n",
      "Answer:\n",
      "NSC stands for National Security Council.\n",
      "---\n",
      "Answer custom query with context:\n",
      "National Security Council\n",
      "---\n",
      "Question: How many asilemseekers are allowed in the netherlands according to the agreement?\n",
      "---\n",
      "Answer:\n",
      "According to the agreement between the European Union and Turkey, the Netherlands has agreed to accept a maximum of 2,047 asylum seekers from Turkey.\n",
      "---\n",
      "Answer custom query with context:\n",
      "The agreement aims to limit the scale of and control all types of migration to the Netherlands, including asylum seekers. The specific number of asylum seekers allowed in the Netherlands is not mentioned in the provided context.\n",
      "---\n",
      "Goodbye!\n"
     ]
    }
   ],
   "source": [
    "# Interactive loop for user input\n",
    "while True:\n",
    "    question = input(\"Please type your question (or type 'exit' to quit): \")\n",
    "    if question.lower() == 'exit':\n",
    "        print(\"Goodbye!\")\n",
    "        break\n",
    "\n",
    "    # generate answers for the question\n",
    "    answer = generate_answer(question)\n",
    "    answer_rag = generate_answers([question])\n",
    "\n",
    "    # print the answer\n",
    "    print_answers(question, answer_rag, [answer])\n"
   ]
  }
 ],
 "metadata": {
  "kernelspec": {
   "display_name": "Python 3 (ipykernel)",
   "language": "python",
   "name": "python3"
  },
  "language_info": {
   "codemirror_mode": {
    "name": "ipython",
    "version": 3
   },
   "file_extension": ".py",
   "mimetype": "text/x-python",
   "name": "python",
   "nbconvert_exporter": "python",
   "pygments_lexer": "ipython3",
   "version": "3.12.3"
  }
 },
 "nbformat": 4,
 "nbformat_minor": 5
}
